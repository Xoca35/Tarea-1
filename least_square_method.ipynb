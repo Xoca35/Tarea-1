{
 "cells": [
  {
   "cell_type": "markdown",
   "metadata": {},
   "source": [
    "Disclaimer: en todo el trabajo se omnitieron las tildes en los acentos para evitar posibles errores de compilacion "
   ]
  },
  {
   "cell_type": "markdown",
   "metadata": {},
   "source": [
    "# Problema 1\n",
    "## Escribir un codigo para encontrar a y b dados un arreglo de datos"
   ]
  },
  {
   "cell_type": "code",
   "execution_count": 212,
   "metadata": {
    "collapsed": true
   },
   "outputs": [],
   "source": [
    "import numpy as np\n",
    "import matplotlib.pyplot as plt\n",
    "import random\n",
    "from math import *\n",
    "from scipy.special import erf"
   ]
  },
  {
   "cell_type": "code",
   "execution_count": 162,
   "metadata": {
    "collapsed": true
   },
   "outputs": [],
   "source": [
    "#iniciar arreglos\n",
    "n=100\n",
    "x= np.zeros(n)\n",
    "y= np.zeros(n)"
   ]
  },
  {
   "cell_type": "code",
   "execution_count": 163,
   "metadata": {
    "collapsed": false
   },
   "outputs": [],
   "source": [
    "#si se tiene un archivo con datos\n",
    "#x,y =np.loadtxt('datos.txt')\n",
    "\n",
    "#llenar arreglos de elementos aleatorios\n",
    "x=np.random.random(n)\n",
    "xprom= np.mean(x)\n",
    "#print xprom\n",
    "\n",
    "\n",
    "#ejemplo con recta y= ax+b = 2x-1\n",
    "y= 2.0*x-1\n",
    "yprom=np.mean(y)\n",
    "#print yprom"
   ]
  },
  {
   "cell_type": "code",
   "execution_count": 164,
   "metadata": {
    "collapsed": false
   },
   "outputs": [],
   "source": [
    "#productos internos para la formula\n",
    "x2= np.dot(x,x)\n",
    "xy= np.dot(x,y)\n",
    "#print x2, xy"
   ]
  },
  {
   "cell_type": "code",
   "execution_count": 165,
   "metadata": {
    "collapsed": false
   },
   "outputs": [
    {
     "name": "stdout",
     "output_type": "stream",
     "text": [
      "2.0 -1.0\n"
     ]
    }
   ],
   "source": [
    "#coeficientes de la recta\n",
    "#las ecuaciones para a y b estaban intercambiadas en la presentacion\n",
    "\n",
    "b=(yprom*x2-xprom*xy)/(x2-n*xprom**2)\n",
    "a=(xy-n*xprom*yprom) /(x2-n*xprom**2)\n",
    "#recta\n",
    "yrect= a*x+b\n",
    "print a,b"
   ]
  },
  {
   "cell_type": "code",
   "execution_count": 166,
   "metadata": {
    "collapsed": false
   },
   "outputs": [
    {
     "data": {
      "image/png": "[encoded data removed]",
      "text/plain": [
       "<matplotlib.figure.Figure at 0x9fa6828>"
      ]
     },
     "metadata": {},
     "output_type": "display_data"
    }
   ],
   "source": [
    "#graficar\n",
    "plt.scatter(x,y, c=\"r\", label=\"datos\")\n",
    "plt.plot(x,yrect, label='ajuste lineal')\n",
    "plt.legend(loc=2)\n",
    "plt.show()"
   ]
  },
  {
   "cell_type": "markdown",
   "metadata": {
    "collapsed": true
   },
   "source": [
    "# Problema 2\n",
    "## Mostrar explicitamente que el least square method viene de chi-cuadrado\n",
    "\n",
    "Disclaimer: puede o no contener typos."
   ]
  },
  {
   "cell_type": "markdown",
   "metadata": {},
   "source": [
    "Sea la funcion\n",
    "$\\chi^2= \\Sigma(y_{i}-y\\,(x_{i},\\theta))^{2}/\\sigma^2_{y_{i}}  $ donde, la funcion $y\\,(x_{i},\\theta))^{2} = ax+b$  es la ecuacion de la recta y $\\sigma^2_{y_{i}}=\\Sigma (y_{i}-y)^{2}/(n-1) $ ; n es el numero total de elementos\n",
    "\n",
    "tenemos entonces:\n",
    "\n",
    "$\\frac{d\\chi^2}{da} =\\frac{d}{da} \\frac{(n-1)(y_{i}-ax-b)^2}{\\Sigma (y_{i}-y)^{2}}=0 \\,\\,\\,\\,\\,\\,\\,\\,\\,\\,\\,\\,(1)    $           \n",
    "\n",
    "$\\longrightarrow  2(n-1)(y_{i}-ax-b)(-x_{i})/(y_{i}-y)^{2}=0 \\,\\,\\,\\,\\,\\,\\,\\,\\,\\,\\,\\, (2)$\n",
    "\n",
    "Despejando b de (2):\n",
    "\n",
    "$b=\\frac{\\Sigma x_{i}y_{i}-a\\Sigma x^{2}_{i}}{\\Sigma x_{i}}\\,\\,\\,\\,\\,\\,\\,\\,\\,\\,\\,\\,(3)$\n",
    "\n",
    "derivando ahora:\n",
    "$\\frac{d\\chi^2}{db}= 2(n-1)(y_{i}-ax-b)(-1)/(y_{i}-y)^{2}=0$\n",
    "\n",
    "$\\longrightarrow \\Sigma y_{i}-a\\Sigma x_{i} -nb=0 \\,\\,\\,\\,\\,\\,\\,\\,\\,\\,\\,\\, (4)$\n",
    "\n",
    "con el valor de b obtenido en (2) y combinando con (4):\n",
    "\n",
    "$\\Sigma y_{i}-a\\Sigma x_{i} -n\\frac{\\Sigma x_{i}y_{i}-a\\Sigma x^{2}_{i}}{\\Sigma x_{i}} $\n",
    "\n",
    "despues de unos pocos pasos algebraicos:\n",
    "\n",
    "$\\longrightarrow \\Sigma y_{i}+ a(\\frac{\\Sigma x^{2}_{i}}{\\bar{x}}-\\Sigma x_{i}) - \\frac{\\Sigma x_{i}y_{i}}{\\bar{x}}=0 ) $\n",
    "\n",
    "$\\frac{a}{\\bar{x}}(\\Sigma x^{2}_{i}-\\bar{x}\\Sigma x_{i})= \\frac{\\Sigma x_{i}y_{i}}{\\bar{x}}-\\Sigma y_{i} $\n",
    "\n",
    "$\\therefore \\,\\, a =\\frac{\\Sigma x_{i}y_{i}-n\\bar{x}\\bar{y}}{\\Sigma x^{2}_{i}-n\\bar{x}^2} \\,\\,\\,\\,\\,\\,\\,\\,\\,\\,\\,\\, (5)$\n",
    "\n",
    "Sustituyendo directamente el valor de a en (3):\n",
    "\n",
    "$b=\\frac{\\Sigma x_{i}y_{i}-\\frac{\\Sigma x_{i}y_{i}-n\\bar{x}\\bar{y}}{\\Sigma x^{2}_{i}-n\\bar{x}^2}\\Sigma x^{2}_{i}}{\\Sigma x_{i}}$\n",
    "\n",
    "$= \\frac{1}{n\\bar{x}}[\\Sigma x_{i}y_{i}- \\frac{\\Sigma x^{2}_{i}(\\Sigma x_{i}y_{i}-n\\bar{x}\\bar{y})}{\\Sigma y^{2}_{i}-n\\bar{x}^2}] $\n",
    "\n",
    "$=\\frac{1}{n\\bar{x}(\\Sigma x^{2}_{i}-n\\bar{x}^2)}(n\\bar{x}\\bar{y}\\Sigma x^{2}_{i}-n\\bar{x}^2 \\Sigma x_{i}y_{i})$\n",
    "\n",
    "$\\therefore \\,\\, b= \\frac{ \\bar{y}\\Sigma x^{2}_{i} -\\bar{x} \\Sigma x_{i}y_{i}}{\\Sigma x^{2}_{i}-n\\bar{x}^2} \\,\\,\\,\\,\\,\\,\\,\\,\\,\\,\\,\\, (6)$"
   ]
  },
  {
   "cell_type": "markdown",
   "metadata": {},
   "source": [
    "# Problema 3\n",
    "## Encontrar CDF y reproducir graficas, asi como hacer un histograma"
   ]
  },
  {
   "cell_type": "code",
   "execution_count": 233,
   "metadata": {
    "collapsed": false
   },
   "outputs": [],
   "source": [
    "#definir numero de pasos\n",
    "n1=1000\n",
    "\n",
    "#inciar arreglos\n",
    "x1= np.zeros(n1)\n",
    "cdf= np.zeros(n1)"
   ]
  },
  {
   "cell_type": "code",
   "execution_count": 253,
   "metadata": {
    "collapsed": false
   },
   "outputs": [],
   "source": [
    "#definir media y valor de sigma\n",
    "mu=70.0\n",
    "sigma=2.0\n",
    "\n",
    "#arreglo de numeros aleatorios\n",
    "x1 = np.random.normal(mu, sigma, n1)\n",
    "\n"
   ]
  },
  {
   "cell_type": "code",
   "execution_count": 254,
   "metadata": {
    "collapsed": false
   },
   "outputs": [],
   "source": [
    "#comulative distribution function for gaussian\n",
    "cdf = 0.5*(1.0 + erf((x1-mean) / (sigma*sqrt(2.0))))"
   ]
  },
  {
   "cell_type": "code",
   "execution_count": 255,
   "metadata": {
    "collapsed": false,
    "scrolled": true
   },
   "outputs": [
    {
     "data": {
      "image/png": "[encoded data removed]",
      "text/plain": [
       "<matplotlib.figure.Figure at 0xb9cb908>"
      ]
     },
     "metadata": {},
     "output_type": "display_data"
    }
   ],
   "source": [
    "#grafica de la CDF\n",
    "plt.scatter(x1,cdf,marker='_')\n",
    "plt.show()"
   ]
  },
  {
   "cell_type": "code",
   "execution_count": 257,
   "metadata": {
    "collapsed": false
   },
   "outputs": [
    {
     "data": {
      "image/png": "[encoded data removed]",
      "text/plain": [
       "<matplotlib.figure.Figure at 0xaf0ab00>"
      ]
     },
     "metadata": {},
     "output_type": "display_data"
    }
   ],
   "source": [
    "#histograma de PDF\n",
    "plt.hist(x1, bins=50, normed=True, color='b') \n",
    "plt.show()"
   ]
  },
  {
   "cell_type": "code",
   "execution_count": null,
   "metadata": {
    "collapsed": true
   },
   "outputs": [],
   "source": []
  }
 ],
 "metadata": {
  "anaconda-cloud": {},
  "kernelspec": {
   "display_name": "Python [conda root]",
   "language": "python",
   "name": "conda-root-py"
  },
  "language_info": {
   "codemirror_mode": {
    "name": "ipython",
    "version": 2
   },
   "file_extension": ".py",
   "mimetype": "text/x-python",
   "name": "python",
   "nbconvert_exporter": "python",
   "pygments_lexer": "ipython2",
   "version": "2.7.12"
  }
 },
 "nbformat": 4,
 "nbformat_minor": 1
}
