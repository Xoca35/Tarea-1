{
 "cells": [
  {
   "cell_type": "code",
   "execution_count": 1,
   "metadata": {
    "collapsed": false
   },
   "outputs": [
    {
     "data": {
      "image/png": "[encoded data removed]",
      "text/plain": [
       "<matplotlib.figure.Figure at 0x4708550>"
      ]
     },
     "metadata": {},
     "output_type": "display_data"
    }
   ],
   "source": [
    "#CREDITOS DE IDEAS: SEBASTIEN FROMENTEAU\n",
    "#DISCLAIMER: este programa fue el desarollado en la MACSS 2016 con Sebastien,\n",
    "#se me hizo mucho mas completo que uno para una recta\n",
    "\n",
    "#genera muestra de chi^2 \n",
    "#ley = ax^2 + bx + c\n",
    "%matplotlib inline\n",
    "import numpy as np\n",
    "import matplotlib.pyplot as plt\n",
    "import scipy as sp\n",
    "from scipy.special import erf\n",
    "import math as mt\n",
    "\n",
    "#valores reales de la constante\n",
    "a=-0.3\n",
    "b=2.6\n",
    "c=4\n",
    "\n",
    "#numero de puntos\n",
    "ndf=10\n",
    "\n",
    "#arreglos que siguen distribucion estandar\n",
    "\n",
    "arr_sigma = np.random.rand(ndf)*1+1 #arreglo de la desviacion estandar\n",
    "arr_errors = np.random.randn(ndf)*arr_sigma #errores gausianos de la observacion\n",
    "\n",
    "arr_x = np.arange(0,ndf) #arreglo de bins\n",
    "\n",
    "\n",
    "arr_val_model = a*np.power(arr_x,2) + b*arr_x + c #arreglo obtenido con la ley\n",
    "arr_measure = arr_val_model + arr_errors #arreglo medido\n",
    "\n",
    "plt.plot(arr_x, arr_val_model)\n",
    "plt.errorbar(arr_x, arr_measure, yerr=arr_errors, fmt='o')\n",
    "\n",
    "plt.xlabel('bin')\n",
    "plt.ylabel('y$\\^{dat}$')\n",
    "\n",
    "plt.show()\n",
    "\n",
    "np.savetxt('Example_chi2_2.txt', (arr_x, arr_measure, arr_sigma), delimiter=';' )"
   ]
  },
  {
   "cell_type": "code",
   "execution_count": 4,
   "metadata": {
    "collapsed": false
   },
   "outputs": [
    {
     "data": {
      "image/png": "[encoded data removed]",
      "text/plain": [
       "<matplotlib.figure.Figure at 0x470c470>"
      ]
     },
     "metadata": {},
     "output_type": "display_data"
    },
    {
     "name": "stdout",
     "output_type": "stream",
     "text": [
      "Results for a,b,c =  -0.206611570248 2.07438016529 4.15702479339\n"
     ]
    },
    {
     "ename": "NameError",
     "evalue": "name 'sp' is not defined",
     "output_type": "error",
     "traceback": [
      "\u001b[0;31m---------------------------------------------------------------------------\u001b[0m",
      "\u001b[0;31mNameError\u001b[0m                                 Traceback (most recent call last)",
      "\u001b[0;32m<ipython-input-4-a0ff27aaf6c3>\u001b[0m in \u001b[0;36m<module>\u001b[0;34m()\u001b[0m\n\u001b[1;32m     43\u001b[0m \u001b[0mtab_gi\u001b[0m \u001b[1;33m=\u001b[0m \u001b[0mnp\u001b[0m\u001b[1;33m.\u001b[0m\u001b[0mzeros\u001b[0m\u001b[1;33m(\u001b[0m\u001b[0mnbs\u001b[0m\u001b[1;33m)\u001b[0m\u001b[1;33m\u001b[0m\u001b[0m\n\u001b[1;32m     44\u001b[0m \u001b[1;32mfor\u001b[0m \u001b[0mi\u001b[0m \u001b[1;32min\u001b[0m \u001b[0mrange\u001b[0m\u001b[1;33m(\u001b[0m\u001b[0mlen\u001b[0m\u001b[1;33m(\u001b[0m\u001b[0mtab_val\u001b[0m\u001b[1;33m)\u001b[0m\u001b[1;33m)\u001b[0m\u001b[1;33m:\u001b[0m\u001b[1;33m\u001b[0m\u001b[0m\n\u001b[0;32m---> 45\u001b[0;31m     \u001b[0mtab_gi\u001b[0m\u001b[1;33m[\u001b[0m\u001b[0mi\u001b[0m\u001b[1;33m]\u001b[0m \u001b[1;33m=\u001b[0m \u001b[0msp\u001b[0m\u001b[1;33m.\u001b[0m\u001b[0mspecial\u001b[0m\u001b[1;33m.\u001b[0m\u001b[0mgammainc\u001b[0m\u001b[1;33m(\u001b[0m\u001b[0mdof\u001b[0m\u001b[1;33m/\u001b[0m\u001b[1;36m2.\u001b[0m\u001b[1;33m,\u001b[0m\u001b[0mtab_val\u001b[0m\u001b[1;33m[\u001b[0m\u001b[0mi\u001b[0m\u001b[1;33m]\u001b[0m\u001b[1;33m/\u001b[0m\u001b[1;36m2\u001b[0m\u001b[1;33m)\u001b[0m\u001b[1;33m\u001b[0m\u001b[0m\n\u001b[0m\u001b[1;32m     46\u001b[0m \u001b[1;33m\u001b[0m\u001b[0m\n\u001b[1;32m     47\u001b[0m \u001b[1;31m#tab_gi = tab_gi/mt.gamma(dof/2.)\u001b[0m\u001b[1;33m\u001b[0m\u001b[1;33m\u001b[0m\u001b[0m\n",
      "\u001b[0;31mNameError\u001b[0m: name 'sp' is not defined"
     ]
    }
   ],
   "source": [
    "x,y,err = np.loadtxt('Example_chi2_2.txt', delimiter=';')\n",
    "\n",
    "\n",
    "nbb=122\n",
    "\n",
    "tab_chi2 = np.zeros( (nbb, nbb, nbb) )\n",
    "\n",
    "tab_a = np.linspace(-1, 5, nbb)\n",
    "tab_b = np.linspace(-1, 5, nbb)\n",
    "tab_c = np.linspace(-1, 5, nbb)\n",
    "\n",
    "for i in range(0,nbb):\n",
    "    for j in range(0,nbb):\n",
    "        for k in range(0,nbb):\n",
    "            \n",
    "            tab_chi2[i,j,k] = np.sum( np.power(tab_a[i]*np.power(x,2) + tab_b[j]*x + tab_c[k] - y,2)/np.power(err,2) )\n",
    "\n",
    "     \n",
    "    \n",
    "t_min = np.unravel_index(tab_chi2.argmin(), tab_chi2.shape)\n",
    "\n",
    "print 'Results for a,b,c = ',tab_a[t_min[0]], tab_b[t_min[1]], tab_c[t_min[2]]\n",
    "\n",
    "#Values for 1,2 and 3 sigma for a gaussian\n",
    "val1=0.68268949  \n",
    "val2=0.95449974  \n",
    "val3=0.9973002\n",
    "\n",
    "vals = np.zeros(3)\n",
    "vals[0] = val1\n",
    "vals[1] = val2\n",
    "vals[2] = val3\n",
    "\n",
    "index_sig = np.zeros(3, int)\n",
    "\n",
    "\n",
    "dof = len(x)-3\n",
    "nbs = 1000\n",
    "tab_val = np.linspace(1,40, nbs)\n",
    "tab_gi = np.zeros(nbs)\n",
    "for i in range(len(tab_val)):\n",
    "    tab_gi[i] = sp.special.gammainc(dof/2.,tab_val[i]/2)\n",
    "\n",
    "for i in range(len(vals)):\n",
    "    index_sig[i] =  int(round(np.argmin( abs(tab_gi - vals[i]) )) )\n",
    "    print index_sig[i], tab_val[index_sig[i]]\n",
    "\n",
    "\n",
    "print index_sig\n",
    "\n",
    "levels = tab_val[index_sig]\n",
    "print 'levels 1sima, 2sigma, 3 sigma', levels\n",
    "\n",
    "#real values\n",
    "a=-0.3\n",
    "b=2.6\n",
    "c=4\n",
    "\n",
    "\n",
    "\n",
    "\n",
    "best_model = tab_a[t_min[0]]*np.power(x,2) + tab_b[t_min[1]]*x + tab_c[t_min[2]]\n",
    "real_model = a*np.power(x,2) + b*x + c\n",
    "\n",
    "plt.errorbar(x,y,err, fmt='o', color='r')\n",
    "plt.plot(x, best_model, linewidth=2, color='blue', label='Best fit' )\n",
    "plt.xlim(-1,11)\n",
    "plt.plot(x, real_model, linewidth=2, color='y', label='Real')\n",
    "plt.legend()\n",
    "plt.show()"
   ]
  },
  {
   "cell_type": "markdown",
   "metadata": {},
   "source": [
    "# PROBLEMA 2 \n",
    "## teorema de bayes"
   ]
  },
  {
   "cell_type": "markdown",
   "metadata": {},
   "source": [
    "Partiendo de:\n",
    "\n",
    "$p(A,B)=p(B,A)\\,\\,\\,\\,\\,\\,\\,\\,\\,\\,\\,\\, (1) $\n",
    "\n",
    "tenemos:\n",
    "\n",
    "$P(A,B)= P(A)\\cdot P(B|A): = P(B,A) = P(B)\\cdot P(A|B)$\n",
    "\n",
    "Despejando $P(A|B): $\n",
    "\n",
    "$P(A|B)= \\frac{P(A)\\cdot P(B|A)}{P(B)}$"
   ]
  }
 ],
 "metadata": {
  "anaconda-cloud": {},
  "kernelspec": {
   "display_name": "Python [conda root]",
   "language": "python",
   "name": "conda-root-py"
  },
  "language_info": {
   "codemirror_mode": {
    "name": "ipython",
    "version": 2
   },
   "file_extension": ".py",
   "mimetype": "text/x-python",
   "name": "python",
   "nbconvert_exporter": "python",
   "pygments_lexer": "ipython2",
   "version": "2.7.12"
  }
 },
 "nbformat": 4,
 "nbformat_minor": 1
}
