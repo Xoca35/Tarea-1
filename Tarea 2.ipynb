{
 "cells": [
  {
   "cell_type": "markdown",
   "metadata": {},
   "source": [
    "# PROBLEMA 2 \n",
    "## teorema de bayes"
   ]
  },
  {
   "cell_type": "markdown",
   "metadata": {},
   "source": [
    "Partiendo de:\n",
    "\n",
    "$p(A,B)=p(B,A)\\,\\,\\,\\,\\,\\,\\,\\,\\,\\,\\,\\, (1) $\n",
    "\n",
    "tenemos:\n",
    "\n",
    "$P(A,B)= P(A)\\cdot P(B|A): =\n",
    "\n",
    "P(B,A) = P(B)\\cdot P(A|B)$\n",
    "\n",
    "Despejando $P(B|A): $\n",
    "\n",
    "$$"
   ]
  },
  {
   "cell_type": "code",
   "execution_count": null,
   "metadata": {
    "collapsed": true
   },
   "outputs": [],
   "source": []
  }
 ],
 "metadata": {
  "anaconda-cloud": {},
  "kernelspec": {
   "display_name": "Python [conda root]",
   "language": "python",
   "name": "conda-root-py"
  },
  "language_info": {
   "codemirror_mode": {
    "name": "ipython",
    "version": 2
   },
   "file_extension": ".py",
   "mimetype": "text/x-python",
   "name": "python",
   "nbconvert_exporter": "python",
   "pygments_lexer": "ipython2",
   "version": "2.7.12"
  }
 },
 "nbformat": 4,
 "nbformat_minor": 1
}
